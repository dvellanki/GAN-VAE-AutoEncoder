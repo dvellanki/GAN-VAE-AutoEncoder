{
 "cells": [
  {
   "cell_type": "code",
   "execution_count": 1,
   "metadata": {},
   "outputs": [],
   "source": [
    "import torch\n",
    "import torch.nn as nn\n",
    "import torch.optim as optim\n",
    "import torch.nn.functional as F\n",
    "from torch.utils.data import DataLoader\n",
    "from torch.distributions import uniform\n",
    "\n",
    "import torchvision.transforms as transforms\n",
    "import torchvision.datasets as datasets\n",
    "\n",
    "import seaborn as sns\n",
    "import matplotlib.pyplot as plt"
   ]
  },
  {
   "cell_type": "markdown",
   "metadata": {},
   "source": [
    "# Exploring batch normalization"
   ]
  },
  {
   "cell_type": "markdown",
   "metadata": {},
   "source": [
    "### Defining Pytorch dataset and loader"
   ]
  },
  {
   "cell_type": "code",
   "execution_count": 2,
   "metadata": {},
   "outputs": [],
   "source": [
    "dataset = datasets.MNIST(\n",
    "    root='../datasets',\n",
    "    download=True,\n",
    "    train = True,\n",
    "    transform=transforms.ToTensor()\n",
    ")\n",
    "\n",
    "loader = DataLoader(\n",
    "    dataset,\n",
    "    num_workers=4,\n",
    "    batch_size=512,\n",
    "    shuffle=True\n",
    ")"
   ]
  },
  {
   "cell_type": "markdown",
   "metadata": {},
   "source": [
    "### Defining custom batch norm module"
   ]
  },
  {
   "cell_type": "code",
   "execution_count": 3,
   "metadata": {},
   "outputs": [],
   "source": [
    "class CustomBatchNorm(nn.Module):\n",
    "\n",
    "    def __init__(self, in_size, momentum=0.9, eps = 1e-5):\n",
    "        super(CustomBatchNorm, self).__init__()\n",
    "        \n",
    "        self.momentum = momentum\n",
    "        self.insize = in_size\n",
    "        self.eps = eps\n",
    "        \n",
    "        U = uniform.Uniform(torch.tensor([0.0]), torch.tensor([1.0]))\n",
    "        self.gamma = nn.Parameter(U.sample(torch.Size([self.insize])).view(self.insize))\n",
    "        self.beta = nn.Parameter(torch.zeros(self.insize))\n",
    "            \n",
    "        self.register_buffer('running_mean', torch.zeros(self.insize))\n",
    "        self.register_buffer('running_var', torch.ones(self.insize))\n",
    "        \n",
    "        self.running_mean.zero_()\n",
    "        self.running_var.fill_(1)\n",
    "\n",
    "\n",
    "    def forward(self, input):\n",
    "        \n",
    "        X = input\n",
    "\n",
    "        if len(X.shape) not in (2, 4):\n",
    "            raise ValueError(\"only support dense or 2dconv\")\n",
    "        \n",
    "        # dense layer\n",
    "        elif len(X.shape) == 2:\n",
    "            if self.training:\n",
    "                mean = torch.mean(X, axis=0)\n",
    "                variance = torch.mean((X-mean)**2, axis=0)\n",
    "                \n",
    "                self.running_mean = (self.momentum * self.running_mean) + (1.0-self.momentum) * mean\n",
    "                self.running_var = (self.momentum * self.running_var) + (1.0-self.momentum) * (input.shape[0]/(input.shape[0]-1)*variance)\n",
    "            \n",
    "            else:\n",
    "                mean = self.running_mean\n",
    "                variance = self.running_var\n",
    "                \n",
    "            X_hat = (X-mean) * 1.0 /torch.sqrt(variance + self.eps)\n",
    "            out = self.gamma * X_hat + self.beta\n",
    "\n",
    "        elif len(X.shape) == 4:\n",
    "            if self.training:\n",
    "                N, C, H, W = X.shape\n",
    "                mean = torch.mean(X, axis = (0, 2, 3))\n",
    "                variance = torch.mean((X - mean.reshape((1, C, 1, 1))) ** 2, axis=(0, 2, 3))\n",
    "                \n",
    "                self.running_mean = (self.momentum * self.running_mean) + (1.0-self.momentum) * mean\n",
    "                self.running_var = (self.momentum * self.running_var) + (1.0-self.momentum) * (input.shape[0]/(input.shape[0]-1)*variance)\n",
    "            else:\n",
    "                mean = self.running_mean\n",
    "                var = self.running_var\n",
    "                \n",
    "            X_hat = (X - mean.reshape((1, C, 1, 1))) * 1.0 / torch.sqrt(variance.reshape((1, C, 1, 1)) + self.eps)\n",
    "            out = self.gamma.reshape((1, C, 1, 1)) * X_hat + self.beta.reshape((1, C, 1, 1))\n",
    "        \n",
    "        return out"
   ]
  },
  {
   "cell_type": "markdown",
   "metadata": {},
   "source": [
    "### Example neural net"
   ]
  },
  {
   "cell_type": "code",
   "execution_count": 4,
   "metadata": {},
   "outputs": [],
   "source": [
    "class SimpleNet(nn.Module):\n",
    "    def __init__(self):\n",
    "        super(SimpleNet, self).__init__()\n",
    "        self.classifier = nn.Sequential(\n",
    "            nn.Linear(28 * 28, 64),\n",
    "            nn.ReLU(),\n",
    "            nn.Linear(64, 128),\n",
    "            nn.ReLU(),\n",
    "            nn.Linear(128, 10)\n",
    "        )\n",
    "        \n",
    "    def forward(self, x):\n",
    "        x = x.view(x.size(0), -1)\n",
    "        x = self.classifier(x)\n",
    "        return x"
   ]
  },
  {
   "cell_type": "code",
   "execution_count": 5,
   "metadata": {},
   "outputs": [],
   "source": [
    "class SimpleNetBN(nn.Module):\n",
    "    def __init__(self):\n",
    "        super(SimpleNetBN, self).__init__()\n",
    "        self.classifier = nn.Sequential(\n",
    "            nn.Linear(28 * 28, 64),\n",
    "            CustomBatchNorm(64),\n",
    "            nn.ReLU(),\n",
    "            nn.Linear(64, 128),\n",
    "            CustomBatchNorm(128),\n",
    "            nn.ReLU(),\n",
    "            nn.Linear(128, 10)\n",
    "        )\n",
    "        \n",
    "    def forward(self, x):\n",
    "        x = x.view(x.size(0), -1)\n",
    "        x = self.classifier(x)\n",
    "        return x"
   ]
  },
  {
   "cell_type": "markdown",
   "metadata": {},
   "source": [
    "# Experiment of training with and without Batch Norm"
   ]
  },
  {
   "cell_type": "code",
   "execution_count": 6,
   "metadata": {},
   "outputs": [],
   "source": [
    "net_without_batch_norm = SimpleNet()"
   ]
  },
  {
   "cell_type": "code",
   "execution_count": 7,
   "metadata": {},
   "outputs": [],
   "source": [
    "net_with_batch_norm = SimpleNetBN()"
   ]
  },
  {
   "cell_type": "code",
   "execution_count": 8,
   "metadata": {},
   "outputs": [],
   "source": [
    "loss_fn = nn.CrossEntropyLoss()\n",
    "opt = optim.SGD(net_without_batch_norm.parameters(), lr=0.01)\n",
    "opt_bn = optim.SGD(net_with_batch_norm.parameters(), lr=0.01)"
   ]
  },
  {
   "cell_type": "code",
   "execution_count": 9,
   "metadata": {},
   "outputs": [
    {
     "name": "stdout",
     "output_type": "stream",
     "text": [
      "[1,   512] loss: 0.058  loss_bn: 0.060\n",
      "[1, 20992] loss: 2.301  loss_bn: 2.086\n",
      "[1, 41472] loss: 2.292  loss_bn: 1.734\n",
      "========================================\n",
      "[2,   512] loss: 0.057  loss_bn: 0.035\n",
      "[2, 20992] loss: 2.271  loss_bn: 1.297\n",
      "[2, 41472] loss: 2.259  loss_bn: 1.132\n",
      "========================================\n",
      "[3,   512] loss: 0.056  loss_bn: 0.024\n",
      "[3, 20992] loss: 2.222  loss_bn: 0.888\n",
      "[3, 41472] loss: 2.194  loss_bn: 0.784\n",
      "========================================\n",
      "[4,   512] loss: 0.054  loss_bn: 0.018\n",
      "[4, 20992] loss: 2.123  loss_bn: 0.639\n",
      "[4, 41472] loss: 2.068  loss_bn: 0.592\n",
      "========================================\n",
      "[5,   512] loss: 0.050  loss_bn: 0.013\n",
      "[5, 20992] loss: 1.924  loss_bn: 0.501\n",
      "[5, 41472] loss: 1.836  loss_bn: 0.477\n",
      "========================================\n",
      "[6,   512] loss: 0.042  loss_bn: 0.011\n",
      "[6, 20992] loss: 1.609  loss_bn: 0.417\n",
      "[6, 41472] loss: 1.480  loss_bn: 0.404\n",
      "========================================\n",
      "[7,   512] loss: 0.032  loss_bn: 0.010\n",
      "[7, 20992] loss: 1.248  loss_bn: 0.373\n",
      "[7, 41472] loss: 1.137  loss_bn: 0.353\n",
      "========================================\n",
      "[8,   512] loss: 0.026  loss_bn: 0.009\n",
      "[8, 20992] loss: 0.971  loss_bn: 0.327\n",
      "[8, 41472] loss: 0.911  loss_bn: 0.323\n",
      "========================================\n",
      "[9,   512] loss: 0.022  loss_bn: 0.008\n",
      "[9, 20992] loss: 0.797  loss_bn: 0.291\n",
      "[9, 41472] loss: 0.766  loss_bn: 0.293\n",
      "========================================\n",
      "[10,   512] loss: 0.018  loss_bn: 0.007\n",
      "[10, 20992] loss: 0.699  loss_bn: 0.273\n",
      "[10, 41472] loss: 0.679  loss_bn: 0.271\n",
      "========================================\n",
      "[11,   512] loss: 0.016  loss_bn: 0.006\n",
      "[11, 20992] loss: 0.630  loss_bn: 0.255\n",
      "[11, 41472] loss: 0.610  loss_bn: 0.253\n",
      "========================================\n",
      "[12,   512] loss: 0.014  loss_bn: 0.005\n",
      "[12, 20992] loss: 0.577  loss_bn: 0.244\n",
      "[12, 41472] loss: 0.555  loss_bn: 0.234\n",
      "========================================\n",
      "[13,   512] loss: 0.014  loss_bn: 0.006\n",
      "[13, 20992] loss: 0.533  loss_bn: 0.229\n",
      "[13, 41472] loss: 0.520  loss_bn: 0.222\n",
      "========================================\n",
      "[14,   512] loss: 0.013  loss_bn: 0.006\n",
      "[14, 20992] loss: 0.493  loss_bn: 0.210\n",
      "[14, 41472] loss: 0.492  loss_bn: 0.211\n",
      "========================================\n",
      "[15,   512] loss: 0.014  loss_bn: 0.006\n",
      "[15, 20992] loss: 0.471  loss_bn: 0.202\n",
      "[15, 41472] loss: 0.473  loss_bn: 0.206\n",
      "========================================\n",
      "[16,   512] loss: 0.011  loss_bn: 0.006\n",
      "[16, 20992] loss: 0.451  loss_bn: 0.190\n",
      "[16, 41472] loss: 0.451  loss_bn: 0.194\n",
      "========================================\n",
      "[17,   512] loss: 0.012  loss_bn: 0.005\n",
      "[17, 20992] loss: 0.435  loss_bn: 0.184\n",
      "[17, 41472] loss: 0.434  loss_bn: 0.185\n",
      "========================================\n",
      "[18,   512] loss: 0.011  loss_bn: 0.005\n",
      "[18, 20992] loss: 0.416  loss_bn: 0.175\n",
      "[18, 41472] loss: 0.410  loss_bn: 0.172\n",
      "========================================\n",
      "[19,   512] loss: 0.008  loss_bn: 0.003\n",
      "[19, 20992] loss: 0.394  loss_bn: 0.169\n",
      "[19, 41472] loss: 0.411  loss_bn: 0.170\n",
      "========================================\n",
      "[20,   512] loss: 0.011  loss_bn: 0.004\n",
      "[20, 20992] loss: 0.393  loss_bn: 0.162\n",
      "[20, 41472] loss: 0.395  loss_bn: 0.162\n",
      "========================================\n",
      "========== Epoch 20 ==========\n"
     ]
    },
    {
     "data": {
      "image/png": "[encoded data removed]",
      "text/plain": [
       "<Figure size 432x288 with 1 Axes>"
      ]
     },
     "metadata": {
      "needs_background": "light"
     },
     "output_type": "display_data"
    },
    {
     "name": "stdout",
     "output_type": "stream",
     "text": [
      "----------------------\n"
     ]
    },
    {
     "data": {
      "image/png": "[encoded data removed]",
      "text/plain": [
       "<Figure size 432x288 with 1 Axes>"
      ]
     },
     "metadata": {
      "needs_background": "light"
     },
     "output_type": "display_data"
    }
   ],
   "source": [
    "loss_arr = []\n",
    "loss_bn_arr = []\n",
    "\n",
    "max_epochs = 20\n",
    "\n",
    "for epoch in range(max_epochs):\n",
    "    \n",
    "    running_loss = 0.0\n",
    "    running_loss_bn = 0.0\n",
    "    for i, data in enumerate(loader, 0):\n",
    "\n",
    "        inputs, labels = data\n",
    "\n",
    "        # training steps for normal model\n",
    "        opt.zero_grad()\n",
    "        outputs = net_without_batch_norm(inputs)\n",
    "        loss = loss_fn(outputs, labels)\n",
    "        loss.backward()\n",
    "        opt.step()\n",
    "        \n",
    "        # training steps for bn model\n",
    "        opt_bn.zero_grad()\n",
    "        outputs_bn = net_with_batch_norm(inputs)\n",
    "        loss_bn = loss_fn(outputs_bn, labels)\n",
    "        loss_bn.backward()\n",
    "        opt_bn.step()\n",
    "        \n",
    "        loss_arr.append(loss.item())\n",
    "        loss_bn_arr.append(loss_bn.item())\n",
    "        \n",
    "        # print statistics\n",
    "        running_loss += loss.item()\n",
    "        running_loss_bn += loss_bn.item()\n",
    "        if i % 40 == 0:    # print every 2000 mini-batches\n",
    "            print('[%d, %5d] loss: %.3f  loss_bn: %.3f'%\n",
    "                  (epoch + 1, (i + 1)*512, running_loss / 40, running_loss_bn / 40))\n",
    "            running_loss = 0.0\n",
    "            running_loss_bn = 0.0\n",
    "    print(\"=\"*40)\n",
    "            \n",
    "\n",
    "print(\"=\"*10 + \" Epoch {} \".format(epoch+1) + \"=\"*10)\n",
    "inputs = inputs.view(inputs.size(0), -1)\n",
    "\n",
    "net_without_batch_norm.eval()\n",
    "net_with_batch_norm.eval()\n",
    "\n",
    "a = net_without_batch_norm.classifier[0](inputs)\n",
    "a = a.detach().numpy().ravel()\n",
    "sns.distplot(a, kde=True, color='r', label='Normal') \n",
    "\n",
    "b = net_with_batch_norm.classifier[0](inputs)\n",
    "b = net_with_batch_norm.classifier[1](b)\n",
    "b = b.detach().numpy().ravel()\n",
    "sns.distplot(b, kde=True, color='g', label='BatchNorm') \n",
    "\n",
    "plt.title('%d: Loss = %0.2f, Loss with bn = %0.2f' % (epoch+1, loss.item(), loss_bn.item()))\n",
    "plt.legend()\n",
    "plt.savefig(\"notes/imgs/activation-distribution.png\", dpi=100)\n",
    "plt.show()\n",
    "plt.pause(0.5)\n",
    "\n",
    "net_without_batch_norm.train()\n",
    "net_with_batch_norm.train()\n",
    "print('----------------------')\n",
    "\n",
    "plt.plot(loss_arr, 'r', label='Normal')\n",
    "plt.plot(loss_bn_arr, 'g', label='BatchNorm')\n",
    "plt.savefig(\"notes/imgs/training-loss.png\", dpi=100)\n",
    "plt.legend()\n",
    "plt.show()\n",
    "    "
   ]
  }
 ],
 "metadata": {
  "kernelspec": {
   "display_name": "Python 3",
   "language": "python",
   "name": "python3"
  },
  "language_info": {
   "codemirror_mode": {
    "name": "ipython",
    "version": 3
   },
   "file_extension": ".py",
   "mimetype": "text/x-python",
   "name": "python",
   "nbconvert_exporter": "python",
   "pygments_lexer": "ipython3",
   "version": "3.7.4"
  }
 },
 "nbformat": 4,
 "nbformat_minor": 4
}
